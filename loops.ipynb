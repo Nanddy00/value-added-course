{
 "cells": [
  {
   "cell_type": "markdown",
   "id": "3690137a",
   "metadata": {},
   "source": [
    "# loops"
   ]
  },
  {
   "cell_type": "markdown",
   "id": "5c583de3",
   "metadata": {},
   "source": [
    "# i) for loop"
   ]
  },
  {
   "cell_type": "code",
   "execution_count": 1,
   "id": "5ab8eebe",
   "metadata": {},
   "outputs": [],
   "source": [
    "num=(1,2,3,4,\"bsc\",5,6,\"nanddy\")\n"
   ]
  },
  {
   "cell_type": "code",
   "execution_count": 2,
   "id": "fbb7a269",
   "metadata": {},
   "outputs": [
    {
     "name": "stdout",
     "output_type": "stream",
     "text": [
      "1\n",
      "2\n",
      "3\n",
      "4\n",
      "bsc\n",
      "5\n",
      "6\n",
      "nanddy\n"
     ]
    }
   ],
   "source": [
    "for j in num:\n",
    "     print(j)"
   ]
  },
  {
   "cell_type": "code",
   "execution_count": 3,
   "id": "b7d7e0ab",
   "metadata": {},
   "outputs": [],
   "source": [
    "name=[\"maddy\",\"sachin\",\"nanddy\",\"jega\"]"
   ]
  },
  {
   "cell_type": "code",
   "execution_count": 4,
   "id": "f6bdc4c6",
   "metadata": {},
   "outputs": [
    {
     "name": "stdout",
     "output_type": "stream",
     "text": [
      "maddy\n",
      "sachin\n",
      "nanddy\n",
      "jega\n"
     ]
    }
   ],
   "source": [
    "for k in name:\n",
    "    print(k)"
   ]
  },
  {
   "cell_type": "code",
   "execution_count": 5,
   "id": "c3a055e0",
   "metadata": {},
   "outputs": [],
   "source": [
    "numlist=[1,2,3,4,5,6,7,8,9,10]"
   ]
  },
  {
   "cell_type": "code",
   "execution_count": 6,
   "id": "bfdbb9a7",
   "metadata": {},
   "outputs": [
    {
     "name": "stdout",
     "output_type": "stream",
     "text": [
      "1 is odd\n",
      "2 is even\n",
      "3 is odd\n",
      "4 is even\n",
      "5 is odd\n",
      "6 is even\n",
      "7 is odd\n",
      "8 is even\n",
      "9 is odd\n",
      "10 is even\n"
     ]
    }
   ],
   "source": [
    "for x in numlist:\n",
    "    if x%2 ==0:\n",
    "        print(f\"{x} is even\")\n",
    "    else:\n",
    "        print(f\"{x} is odd\")"
   ]
  },
  {
   "cell_type": "code",
   "execution_count": 7,
   "id": "af605aac",
   "metadata": {},
   "outputs": [
    {
     "name": "stdout",
     "output_type": "stream",
     "text": [
      "hellow word\n",
      "hellow word\n",
      "hellow word\n",
      "hellow word\n",
      "hellow word\n",
      "hellow word\n"
     ]
    }
   ],
   "source": [
    "for _ in 'python':\n",
    "    print(\"hellow word\")"
   ]
  },
  {
   "cell_type": "code",
   "execution_count": 8,
   "id": "d89cae9d",
   "metadata": {},
   "outputs": [
    {
     "name": "stdout",
     "output_type": "stream",
     "text": [
      "hiiii\n"
     ]
    }
   ],
   "source": [
    "for i in '7':\n",
    "    print(\"hiiii\")"
   ]
  },
  {
   "cell_type": "markdown",
   "id": "83991631",
   "metadata": {},
   "source": [
    "# ii) while loop"
   ]
  },
  {
   "cell_type": "code",
   "execution_count": null,
   "id": "195975c9",
   "metadata": {},
   "outputs": [],
   "source": [
    "n=input(\"enter a number:\")\n",
    "val=0\n",
    "i=0\n",
    "while i <= int(n):\n",
    "    val += i\n",
    "    i += 1 \n",
    "    \n",
    "    \n",
    "    print(f\"the sum is {val}\")  "
   ]
  },
  {
   "cell_type": "code",
   "execution_count": 3,
   "id": "13fac8ae",
   "metadata": {},
   "outputs": [
    {
     "name": "stdout",
     "output_type": "stream",
     "text": [
      "0inside loop\n",
      "1inside loop\n",
      "2inside loop\n",
      "3inside loop\n",
      "4inside loop\n",
      "5get outside the loop\n"
     ]
    }
   ],
   "source": [
    "counter=0\n",
    "while counter < 5:\n",
    "    print(f\"{counter}inside loop\")\n",
    "    counter = counter + 1\n",
    "else:\n",
    "    print(f\"{counter}get outside the loop\")"
   ]
  },
  {
   "cell_type": "code",
   "execution_count": null,
   "id": "e957b522",
   "metadata": {},
   "outputs": [],
   "source": []
  },
  {
   "cell_type": "code",
   "execution_count": null,
   "id": "def8fbce",
   "metadata": {},
   "outputs": [],
   "source": []
  },
  {
   "cell_type": "code",
   "execution_count": null,
   "id": "806ffd73",
   "metadata": {},
   "outputs": [],
   "source": []
  },
  {
   "cell_type": "code",
   "execution_count": null,
   "id": "20ef22f5",
   "metadata": {},
   "outputs": [],
   "source": []
  },
  {
   "cell_type": "code",
   "execution_count": null,
   "id": "4b2744d1",
   "metadata": {},
   "outputs": [],
   "source": []
  }
 ],
 "metadata": {
  "kernelspec": {
   "display_name": "Python 3 (ipykernel)",
   "language": "python",
   "name": "python3"
  },
  "language_info": {
   "codemirror_mode": {
    "name": "ipython",
    "version": 3
   },
   "file_extension": ".py",
   "mimetype": "text/x-python",
   "name": "python",
   "nbconvert_exporter": "python",
   "pygments_lexer": "ipython3",
   "version": "3.9.16"
  }
 },
 "nbformat": 4,
 "nbformat_minor": 5
}
