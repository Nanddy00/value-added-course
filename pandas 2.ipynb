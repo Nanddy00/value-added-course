{
 "cells": [
  {
   "cell_type": "code",
   "execution_count": 5,
   "id": "0c6099d0",
   "metadata": {},
   "outputs": [
    {
     "name": "stdout",
     "output_type": "stream",
     "text": [
      "Requirement already satisfied: pandas in c:\\users\\admin\\anaconda3\\envs\\nandhu\\lib\\site-packages (1.5.3)\n",
      "Requirement already satisfied: python-dateutil>=2.8.1 in c:\\users\\admin\\anaconda3\\envs\\nandhu\\lib\\site-packages (from pandas) (2.8.2)\n",
      "Requirement already satisfied: numpy>=1.20.3 in c:\\users\\admin\\anaconda3\\envs\\nandhu\\lib\\site-packages (from pandas) (1.24.2)\n",
      "Requirement already satisfied: pytz>=2020.1 in c:\\users\\admin\\anaconda3\\envs\\nandhu\\lib\\site-packages (from pandas) (2022.7.1)\n",
      "Requirement already satisfied: six>=1.5 in c:\\users\\admin\\anaconda3\\envs\\nandhu\\lib\\site-packages (from python-dateutil>=2.8.1->pandas) (1.16.0)\n",
      "Note: you may need to restart the kernel to use updated packages.\n"
     ]
    }
   ],
   "source": [
    "pip install pandas"
   ]
  },
  {
   "cell_type": "code",
   "execution_count": 6,
   "id": "c7def27c",
   "metadata": {},
   "outputs": [],
   "source": [
    "import pandas as pd  #to create a dataframe\n"
   ]
  },
  {
   "cell_type": "code",
   "execution_count": 14,
   "id": "a86ae1cf",
   "metadata": {},
   "outputs": [],
   "source": [
    "\n",
    "a1=pd.Series(['nandy','mady','nihish','jega'],index=[0,1,2,3])"
   ]
  },
  {
   "cell_type": "code",
   "execution_count": 15,
   "id": "c9fb2116",
   "metadata": {},
   "outputs": [
    {
     "data": {
      "text/plain": [
       "0     nandy\n",
       "1      mady\n",
       "2    nihish\n",
       "3      jega\n",
       "dtype: object"
      ]
     },
     "execution_count": 15,
     "metadata": {},
     "output_type": "execute_result"
    }
   ],
   "source": [
    "a1"
   ]
  },
  {
   "cell_type": "code",
   "execution_count": 20,
   "id": "3bc665d1",
   "metadata": {},
   "outputs": [],
   "source": [
    "season={\"winter\":{1:'nov',2:'dec',3:'jan',4:'feb'},\"dry\":{1:'mar',2:'apr',3:'may',4:'jun'}}"
   ]
  },
  {
   "cell_type": "code",
   "execution_count": 21,
   "id": "be786d3e",
   "metadata": {},
   "outputs": [
    {
     "data": {
      "text/plain": [
       "{'winter': {1: 'nov', 2: 'dec', 3: 'jan', 4: 'feb'},\n",
       " 'dry': {1: 'mar', 2: 'apr', 3: 'may', 4: 'jun'}}"
      ]
     },
     "execution_count": 21,
     "metadata": {},
     "output_type": "execute_result"
    }
   ],
   "source": [
    "season"
   ]
  },
  {
   "cell_type": "code",
   "execution_count": 22,
   "id": "1de4e00b",
   "metadata": {},
   "outputs": [],
   "source": [
    "\n",
    "d=pd.DataFrame(season,columns=[\"winter\",\"dry\"])"
   ]
  },
  {
   "cell_type": "code",
   "execution_count": 23,
   "id": "fb52a514",
   "metadata": {},
   "outputs": [
    {
     "data": {
      "text/html": [
       "<div>\n",
       "<style scoped>\n",
       "    .dataframe tbody tr th:only-of-type {\n",
       "        vertical-align: middle;\n",
       "    }\n",
       "\n",
       "    .dataframe tbody tr th {\n",
       "        vertical-align: top;\n",
       "    }\n",
       "\n",
       "    .dataframe thead th {\n",
       "        text-align: right;\n",
       "    }\n",
       "</style>\n",
       "<table border=\"1\" class=\"dataframe\">\n",
       "  <thead>\n",
       "    <tr style=\"text-align: right;\">\n",
       "      <th></th>\n",
       "      <th>winter</th>\n",
       "      <th>dry</th>\n",
       "    </tr>\n",
       "  </thead>\n",
       "  <tbody>\n",
       "    <tr>\n",
       "      <th>1</th>\n",
       "      <td>nov</td>\n",
       "      <td>mar</td>\n",
       "    </tr>\n",
       "    <tr>\n",
       "      <th>2</th>\n",
       "      <td>dec</td>\n",
       "      <td>apr</td>\n",
       "    </tr>\n",
       "    <tr>\n",
       "      <th>3</th>\n",
       "      <td>jan</td>\n",
       "      <td>may</td>\n",
       "    </tr>\n",
       "    <tr>\n",
       "      <th>4</th>\n",
       "      <td>feb</td>\n",
       "      <td>jun</td>\n",
       "    </tr>\n",
       "  </tbody>\n",
       "</table>\n",
       "</div>"
      ],
      "text/plain": [
       "  winter  dry\n",
       "1    nov  mar\n",
       "2    dec  apr\n",
       "3    jan  may\n",
       "4    feb  jun"
      ]
     },
     "execution_count": 23,
     "metadata": {},
     "output_type": "execute_result"
    }
   ],
   "source": [
    "d"
   ]
  },
  {
   "cell_type": "code",
   "execution_count": 24,
   "id": "ecbb535c",
   "metadata": {},
   "outputs": [],
   "source": [
    "import numpy as np"
   ]
  },
  {
   "cell_type": "code",
   "execution_count": 29,
   "id": "40aab618",
   "metadata": {},
   "outputs": [],
   "source": [
    "a=pd.DataFrame(np.random.randint(10,400,size=(20,5)),columns=list('abcde'))"
   ]
  },
  {
   "cell_type": "code",
   "execution_count": 30,
   "id": "a0fe290d",
   "metadata": {},
   "outputs": [
    {
     "name": "stdout",
     "output_type": "stream",
     "text": [
      "      a    b    c    d    e\n",
      "0   150   83  273  172  198\n",
      "1    52   25  259  390  308\n",
      "2    81   89  123   10  275\n",
      "3   386  291   81  309  254\n",
      "4   369   72  179   10  260\n",
      "5   354  140   51  383  324\n",
      "6    78  305  117   63  251\n",
      "7   304  368  385  239  255\n",
      "8   287   39  332  317   81\n",
      "9   175  165  357  137  357\n",
      "10  227   39  138  237  282\n",
      "11   77  392  368  237   12\n",
      "12  354   57  336  271  248\n",
      "13  139  349  332  306  366\n",
      "14   19  205  305   41  399\n",
      "15  241   16  299   15   88\n",
      "16  397  114   96   48  143\n",
      "17  363   59  360  319  291\n",
      "18  372  303  201  297  160\n",
      "19  287  114  153  218  214\n"
     ]
    }
   ],
   "source": [
    "print(a)"
   ]
  },
  {
   "cell_type": "code",
   "execution_count": 32,
   "id": "65b8c8b9",
   "metadata": {},
   "outputs": [],
   "source": [
    "a.to_csv('C:\\\\Users\\\\ADMIN\\\\Documents\\\\Nandhu\\\\pandas.csv')  #to store data in exel file"
   ]
  },
  {
   "cell_type": "code",
   "execution_count": 33,
   "id": "5b049a95",
   "metadata": {},
   "outputs": [],
   "source": [
    "d=pd.read_csv('C:\\\\Users\\\\ADMIN\\\\Documents\\\\Nandhu\\\\pandas.csv') #to view a storing of data"
   ]
  },
  {
   "cell_type": "code",
   "execution_count": 34,
   "id": "e5cf438b",
   "metadata": {},
   "outputs": [
    {
     "name": "stdout",
     "output_type": "stream",
     "text": [
      "    Unnamed: 0    a    b    c    d    e\n",
      "0            0  150   83  273  172  198\n",
      "1            1   52   25  259  390  308\n",
      "2            2   81   89  123   10  275\n",
      "3            3  386  291   81  309  254\n",
      "4            4  369   72  179   10  260\n",
      "5            5  354  140   51  383  324\n",
      "6            6   78  305  117   63  251\n",
      "7            7  304  368  385  239  255\n",
      "8            8  287   39  332  317   81\n",
      "9            9  175  165  357  137  357\n",
      "10          10  227   39  138  237  282\n",
      "11          11   77  392  368  237   12\n",
      "12          12  354   57  336  271  248\n",
      "13          13  139  349  332  306  366\n",
      "14          14   19  205  305   41  399\n",
      "15          15  241   16  299   15   88\n",
      "16          16  397  114   96   48  143\n",
      "17          17  363   59  360  319  291\n",
      "18          18  372  303  201  297  160\n",
      "19          19  287  114  153  218  214\n"
     ]
    }
   ],
   "source": [
    "print(d)"
   ]
  },
  {
   "cell_type": "code",
   "execution_count": 50,
   "id": "65c3b974",
   "metadata": {},
   "outputs": [],
   "source": [
    "\n",
    "z=d.drop(\"Unnamed: 0\",axis=1)"
   ]
  },
  {
   "cell_type": "code",
   "execution_count": 51,
   "id": "f6242dd3",
   "metadata": {},
   "outputs": [
    {
     "data": {
      "text/html": [
       "<div>\n",
       "<style scoped>\n",
       "    .dataframe tbody tr th:only-of-type {\n",
       "        vertical-align: middle;\n",
       "    }\n",
       "\n",
       "    .dataframe tbody tr th {\n",
       "        vertical-align: top;\n",
       "    }\n",
       "\n",
       "    .dataframe thead th {\n",
       "        text-align: right;\n",
       "    }\n",
       "</style>\n",
       "<table border=\"1\" class=\"dataframe\">\n",
       "  <thead>\n",
       "    <tr style=\"text-align: right;\">\n",
       "      <th></th>\n",
       "      <th>a</th>\n",
       "      <th>b</th>\n",
       "      <th>c</th>\n",
       "      <th>e</th>\n",
       "    </tr>\n",
       "  </thead>\n",
       "  <tbody>\n",
       "    <tr>\n",
       "      <th>0</th>\n",
       "      <td>150</td>\n",
       "      <td>83</td>\n",
       "      <td>273</td>\n",
       "      <td>198</td>\n",
       "    </tr>\n",
       "    <tr>\n",
       "      <th>1</th>\n",
       "      <td>52</td>\n",
       "      <td>25</td>\n",
       "      <td>259</td>\n",
       "      <td>308</td>\n",
       "    </tr>\n",
       "    <tr>\n",
       "      <th>2</th>\n",
       "      <td>81</td>\n",
       "      <td>89</td>\n",
       "      <td>123</td>\n",
       "      <td>275</td>\n",
       "    </tr>\n",
       "    <tr>\n",
       "      <th>3</th>\n",
       "      <td>386</td>\n",
       "      <td>291</td>\n",
       "      <td>81</td>\n",
       "      <td>254</td>\n",
       "    </tr>\n",
       "    <tr>\n",
       "      <th>4</th>\n",
       "      <td>369</td>\n",
       "      <td>72</td>\n",
       "      <td>179</td>\n",
       "      <td>260</td>\n",
       "    </tr>\n",
       "    <tr>\n",
       "      <th>5</th>\n",
       "      <td>354</td>\n",
       "      <td>140</td>\n",
       "      <td>51</td>\n",
       "      <td>324</td>\n",
       "    </tr>\n",
       "    <tr>\n",
       "      <th>6</th>\n",
       "      <td>78</td>\n",
       "      <td>305</td>\n",
       "      <td>117</td>\n",
       "      <td>251</td>\n",
       "    </tr>\n",
       "    <tr>\n",
       "      <th>7</th>\n",
       "      <td>304</td>\n",
       "      <td>368</td>\n",
       "      <td>385</td>\n",
       "      <td>255</td>\n",
       "    </tr>\n",
       "    <tr>\n",
       "      <th>8</th>\n",
       "      <td>287</td>\n",
       "      <td>39</td>\n",
       "      <td>332</td>\n",
       "      <td>81</td>\n",
       "    </tr>\n",
       "    <tr>\n",
       "      <th>9</th>\n",
       "      <td>175</td>\n",
       "      <td>165</td>\n",
       "      <td>357</td>\n",
       "      <td>357</td>\n",
       "    </tr>\n",
       "    <tr>\n",
       "      <th>10</th>\n",
       "      <td>227</td>\n",
       "      <td>39</td>\n",
       "      <td>138</td>\n",
       "      <td>282</td>\n",
       "    </tr>\n",
       "    <tr>\n",
       "      <th>11</th>\n",
       "      <td>77</td>\n",
       "      <td>392</td>\n",
       "      <td>368</td>\n",
       "      <td>12</td>\n",
       "    </tr>\n",
       "    <tr>\n",
       "      <th>12</th>\n",
       "      <td>354</td>\n",
       "      <td>57</td>\n",
       "      <td>336</td>\n",
       "      <td>248</td>\n",
       "    </tr>\n",
       "    <tr>\n",
       "      <th>13</th>\n",
       "      <td>139</td>\n",
       "      <td>349</td>\n",
       "      <td>332</td>\n",
       "      <td>366</td>\n",
       "    </tr>\n",
       "    <tr>\n",
       "      <th>14</th>\n",
       "      <td>19</td>\n",
       "      <td>205</td>\n",
       "      <td>305</td>\n",
       "      <td>399</td>\n",
       "    </tr>\n",
       "    <tr>\n",
       "      <th>15</th>\n",
       "      <td>241</td>\n",
       "      <td>16</td>\n",
       "      <td>299</td>\n",
       "      <td>88</td>\n",
       "    </tr>\n",
       "    <tr>\n",
       "      <th>16</th>\n",
       "      <td>397</td>\n",
       "      <td>114</td>\n",
       "      <td>96</td>\n",
       "      <td>143</td>\n",
       "    </tr>\n",
       "    <tr>\n",
       "      <th>17</th>\n",
       "      <td>363</td>\n",
       "      <td>59</td>\n",
       "      <td>360</td>\n",
       "      <td>291</td>\n",
       "    </tr>\n",
       "    <tr>\n",
       "      <th>18</th>\n",
       "      <td>372</td>\n",
       "      <td>303</td>\n",
       "      <td>201</td>\n",
       "      <td>160</td>\n",
       "    </tr>\n",
       "    <tr>\n",
       "      <th>19</th>\n",
       "      <td>287</td>\n",
       "      <td>114</td>\n",
       "      <td>153</td>\n",
       "      <td>214</td>\n",
       "    </tr>\n",
       "  </tbody>\n",
       "</table>\n",
       "</div>"
      ],
      "text/plain": [
       "      a    b    c    e\n",
       "0   150   83  273  198\n",
       "1    52   25  259  308\n",
       "2    81   89  123  275\n",
       "3   386  291   81  254\n",
       "4   369   72  179  260\n",
       "5   354  140   51  324\n",
       "6    78  305  117  251\n",
       "7   304  368  385  255\n",
       "8   287   39  332   81\n",
       "9   175  165  357  357\n",
       "10  227   39  138  282\n",
       "11   77  392  368   12\n",
       "12  354   57  336  248\n",
       "13  139  349  332  366\n",
       "14   19  205  305  399\n",
       "15  241   16  299   88\n",
       "16  397  114   96  143\n",
       "17  363   59  360  291\n",
       "18  372  303  201  160\n",
       "19  287  114  153  214"
      ]
     },
     "execution_count": 51,
     "metadata": {},
     "output_type": "execute_result"
    }
   ],
   "source": [
    "\n",
    "z.drop(\"d\",axis=1)"
   ]
  },
  {
   "cell_type": "code",
   "execution_count": 52,
   "id": "91b88c5c",
   "metadata": {},
   "outputs": [
    {
     "data": {
      "text/plain": [
       "(20, 5)"
      ]
     },
     "execution_count": 52,
     "metadata": {},
     "output_type": "execute_result"
    }
   ],
   "source": [
    "z.shape"
   ]
  },
  {
   "cell_type": "code",
   "execution_count": 54,
   "id": "f49d8792",
   "metadata": {},
   "outputs": [
    {
     "name": "stdout",
     "output_type": "stream",
     "text": [
      "<class 'pandas.core.frame.DataFrame'>\n",
      "RangeIndex: 20 entries, 0 to 19\n",
      "Data columns (total 5 columns):\n",
      " #   Column  Non-Null Count  Dtype\n",
      "---  ------  --------------  -----\n",
      " 0   a       20 non-null     int64\n",
      " 1   b       20 non-null     int64\n",
      " 2   c       20 non-null     int64\n",
      " 3   d       20 non-null     int64\n",
      " 4   e       20 non-null     int64\n",
      "dtypes: int64(5)\n",
      "memory usage: 928.0 bytes\n"
     ]
    }
   ],
   "source": [
    "z.info()"
   ]
  },
  {
   "cell_type": "code",
   "execution_count": null,
   "id": "a419c89f",
   "metadata": {},
   "outputs": [],
   "source": []
  }
 ],
 "metadata": {
  "kernelspec": {
   "display_name": "Python 3 (ipykernel)",
   "language": "python",
   "name": "python3"
  },
  "language_info": {
   "codemirror_mode": {
    "name": "ipython",
    "version": 3
   },
   "file_extension": ".py",
   "mimetype": "text/x-python",
   "name": "python",
   "nbconvert_exporter": "python",
   "pygments_lexer": "ipython3",
   "version": "3.9.16"
  }
 },
 "nbformat": 4,
 "nbformat_minor": 5
}
