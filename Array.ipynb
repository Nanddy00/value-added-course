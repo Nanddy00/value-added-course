{
 "cells": [
  {
   "cell_type": "markdown",
   "id": "1a9d1755",
   "metadata": {},
   "source": [
    "# numeric"
   ]
  },
  {
   "cell_type": "code",
   "execution_count": 2,
   "id": "04bb5154",
   "metadata": {},
   "outputs": [],
   "source": [
    "a=-12\n",
    "b=10.57\n",
    "c=2+3j"
   ]
  },
  {
   "cell_type": "code",
   "execution_count": 8,
   "id": "d5d9cc33",
   "metadata": {},
   "outputs": [
    {
     "data": {
      "text/plain": [
       "complex"
      ]
     },
     "execution_count": 8,
     "metadata": {},
     "output_type": "execute_result"
    }
   ],
   "source": [
    "type(c)"
   ]
  },
  {
   "cell_type": "code",
   "execution_count": 3,
   "id": "2392fb13",
   "metadata": {},
   "outputs": [
    {
     "data": {
      "text/plain": [
       "int"
      ]
     },
     "execution_count": 3,
     "metadata": {},
     "output_type": "execute_result"
    }
   ],
   "source": [
    "type(a)"
   ]
  },
  {
   "cell_type": "code",
   "execution_count": 9,
   "id": "18d5b895",
   "metadata": {},
   "outputs": [
    {
     "data": {
      "text/plain": [
       "float"
      ]
     },
     "execution_count": 9,
     "metadata": {},
     "output_type": "execute_result"
    }
   ],
   "source": [
    "type(b)"
   ]
  },
  {
   "cell_type": "raw",
   "id": "ff8a9a6f",
   "metadata": {},
   "source": []
  },
  {
   "cell_type": "code",
   "execution_count": 4,
   "id": "de3eb00e",
   "metadata": {},
   "outputs": [],
   "source": [
    "str=\"i am nandhakumar\""
   ]
  },
  {
   "cell_type": "code",
   "execution_count": 5,
   "id": "24ea339c",
   "metadata": {},
   "outputs": [
    {
     "data": {
      "text/plain": [
       "str"
      ]
     },
     "execution_count": 5,
     "metadata": {},
     "output_type": "execute_result"
    }
   ],
   "source": [
    "type(str)"
   ]
  },
  {
   "cell_type": "code",
   "execution_count": 6,
   "id": "31965396",
   "metadata": {},
   "outputs": [],
   "source": [
    "a=\"4564433\"\n"
   ]
  },
  {
   "cell_type": "code",
   "execution_count": 7,
   "id": "3ff117a6",
   "metadata": {},
   "outputs": [
    {
     "data": {
      "text/plain": [
       "str"
      ]
     },
     "execution_count": 7,
     "metadata": {},
     "output_type": "execute_result"
    }
   ],
   "source": [
    "type(a)"
   ]
  },
  {
   "cell_type": "markdown",
   "id": "54faae02",
   "metadata": {},
   "source": [
    "# ARRAY"
   ]
  },
  {
   "cell_type": "code",
   "execution_count": 14,
   "id": "6403b89f",
   "metadata": {},
   "outputs": [],
   "source": [
    "import array as ar"
   ]
  },
  {
   "cell_type": "code",
   "execution_count": 15,
   "id": "01bd7c65",
   "metadata": {},
   "outputs": [],
   "source": [
    "A=ar.array('i',[1,2,3,4,5])\n",
    "B=ar.array('d',[6,7,8,9,10])"
   ]
  },
  {
   "cell_type": "code",
   "execution_count": 19,
   "id": "577dd1a3",
   "metadata": {},
   "outputs": [
    {
     "data": {
      "text/plain": [
       "array('i', [1, 2, 3, 4, 5])"
      ]
     },
     "execution_count": 19,
     "metadata": {},
     "output_type": "execute_result"
    }
   ],
   "source": [
    "A"
   ]
  },
  {
   "cell_type": "code",
   "execution_count": 20,
   "id": "bb2a0fd2",
   "metadata": {},
   "outputs": [
    {
     "data": {
      "text/plain": [
       "array('d', [6.0, 7.0, 8.0, 9.0, 10.0])"
      ]
     },
     "execution_count": 20,
     "metadata": {},
     "output_type": "execute_result"
    }
   ],
   "source": [
    "B"
   ]
  },
  {
   "cell_type": "code",
   "execution_count": null,
   "id": "57c24f77",
   "metadata": {},
   "outputs": [],
   "source": []
  },
  {
   "cell_type": "code",
   "execution_count": 16,
   "id": "6f113c92",
   "metadata": {},
   "outputs": [
    {
     "data": {
      "text/plain": [
       "'4564433'"
      ]
     },
     "execution_count": 16,
     "metadata": {},
     "output_type": "execute_result"
    }
   ],
   "source": [
    "a"
   ]
  }
 ],
 "metadata": {
  "kernelspec": {
   "display_name": "Python 3 (ipykernel)",
   "language": "python",
   "name": "python3"
  },
  "language_info": {
   "codemirror_mode": {
    "name": "ipython",
    "version": 3
   },
   "file_extension": ".py",
   "mimetype": "text/x-python",
   "name": "python",
   "nbconvert_exporter": "python",
   "pygments_lexer": "ipython3",
   "version": "3.9.16"
  }
 },
 "nbformat": 4,
 "nbformat_minor": 5
}
