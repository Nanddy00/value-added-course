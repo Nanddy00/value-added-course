{
 "cells": [
  {
   "cell_type": "markdown",
   "id": "fc1f8254",
   "metadata": {},
   "source": [
    "# variable"
   ]
  },
  {
   "cell_type": "code",
   "execution_count": null,
   "id": "3c493fae",
   "metadata": {},
   "outputs": [],
   "source": []
  },
  {
   "cell_type": "code",
   "execution_count": null,
   "id": "78851862",
   "metadata": {},
   "outputs": [],
   "source": [
    "name=\"nandhu\""
   ]
  },
  {
   "cell_type": "code",
   "execution_count": null,
   "id": "ecb5cc9a",
   "metadata": {},
   "outputs": [],
   "source": [
    "print(name)"
   ]
  },
  {
   "cell_type": "code",
   "execution_count": null,
   "id": "b825ac44",
   "metadata": {},
   "outputs": [],
   "source": [
    "a=b=c=d=45\n"
   ]
  },
  {
   "cell_type": "code",
   "execution_count": null,
   "id": "742089ee",
   "metadata": {},
   "outputs": [],
   "source": [
    "print(c)"
   ]
  },
  {
   "cell_type": "code",
   "execution_count": null,
   "id": "78a893eb",
   "metadata": {},
   "outputs": [],
   "source": [
    "reg_no,name,CLASS,section,dob = 110,\"nandhu\",\"II bsc cs\",\"b\",\"2004-02-14\""
   ]
  },
  {
   "cell_type": "code",
   "execution_count": null,
   "id": "90840757",
   "metadata": {},
   "outputs": [],
   "source": [
    "print(name)"
   ]
  },
  {
   "cell_type": "code",
   "execution_count": null,
   "id": "292ece12",
   "metadata": {},
   "outputs": [],
   "source": [
    "print(reg_no)"
   ]
  },
  {
   "cell_type": "code",
   "execution_count": null,
   "id": "56941b8a",
   "metadata": {},
   "outputs": [],
   "source": [
    "print(CLASS)"
   ]
  },
  {
   "cell_type": "code",
   "execution_count": null,
   "id": "81d1c756",
   "metadata": {},
   "outputs": [],
   "source": [
    "type(name)"
   ]
  },
  {
   "cell_type": "code",
   "execution_count": null,
   "id": "9ab48a7c",
   "metadata": {},
   "outputs": [],
   "source": [
    "print(section)"
   ]
  },
  {
   "cell_type": "code",
   "execution_count": null,
   "id": "5f37a815",
   "metadata": {},
   "outputs": [],
   "source": [
    "print(dob)"
   ]
  },
  {
   "cell_type": "code",
   "execution_count": null,
   "id": "5dbb0538",
   "metadata": {},
   "outputs": [],
   "source": [
    "type(section)"
   ]
  },
  {
   "cell_type": "code",
   "execution_count": null,
   "id": "1dd08417",
   "metadata": {},
   "outputs": [],
   "source": [
    "type(reg_no)"
   ]
  },
  {
   "cell_type": "code",
   "execution_count": null,
   "id": "35c89e12",
   "metadata": {},
   "outputs": [],
   "source": [
    "type(dob)"
   ]
  },
  {
   "cell_type": "code",
   "execution_count": null,
   "id": "b67f8f66",
   "metadata": {},
   "outputs": [],
   "source": [
    "x=45\n",
    "y=x+2\n",
    "y=2*y\n",
    "x=y-x\n",
    "print(x)\n",
    "print(y)"
   ]
  },
  {
   "cell_type": "code",
   "execution_count": null,
   "id": "e120f544",
   "metadata": {},
   "outputs": [],
   "source": [
    "x=34\n",
    "y=x-2\n",
    "x=y+5\n",
    "print(x,y)"
   ]
  },
  {
   "cell_type": "code",
   "execution_count": null,
   "id": "a78da0ea",
   "metadata": {},
   "outputs": [],
   "source": [
    "x=15\n",
    "y=x*x\n",
    "y=y*3\n",
    "x=y*y\n",
    "print(x,y)\n"
   ]
  },
  {
   "cell_type": "code",
   "execution_count": 1,
   "id": "87a9d9ee",
   "metadata": {},
   "outputs": [
    {
     "name": "stdout",
     "output_type": "stream",
     "text": [
      "enter a namenanddy\n"
     ]
    }
   ],
   "source": [
    "name=input(\"enter a name\")"
   ]
  },
  {
   "cell_type": "markdown",
   "id": "86b03eae",
   "metadata": {},
   "source": []
  },
  {
   "cell_type": "code",
   "execution_count": 2,
   "id": "ab00a38f",
   "metadata": {},
   "outputs": [
    {
     "name": "stdout",
     "output_type": "stream",
     "text": [
      "enter ur name:nanddyyy\n"
     ]
    }
   ],
   "source": [
    "name=input(\"enter ur name:\")"
   ]
  },
  {
   "cell_type": "code",
   "execution_count": 4,
   "id": "833a2f48",
   "metadata": {},
   "outputs": [
    {
     "name": "stdout",
     "output_type": "stream",
     "text": [
      "the value of x is:15\n",
      "455625 675\n"
     ]
    }
   ],
   "source": [
    "x=input(\"the value of x is:\")\n",
    "x=int(x)\n",
    "x=x*x\n",
    "y=x*3\n",
    "x=y*y\n",
    "print(x,y)"
   ]
  },
  {
   "cell_type": "code",
   "execution_count": 12,
   "id": "68676d2b",
   "metadata": {},
   "outputs": [
    {
     "name": "stdout",
     "output_type": "stream",
     "text": [
      "enter the value of a:5\n",
      "25\n"
     ]
    }
   ],
   "source": [
    "a=input(\"enter the value of a:\")\n",
    "a=int(a)\n",
    "a=a*a\n",
    "print(a)"
   ]
  },
  {
   "cell_type": "code",
   "execution_count": null,
   "id": "8df17619",
   "metadata": {},
   "outputs": [],
   "source": [
    "\n"
   ]
  },
  {
   "cell_type": "code",
   "execution_count": null,
   "id": "b60398f2",
   "metadata": {},
   "outputs": [],
   "source": []
  },
  {
   "cell_type": "code",
   "execution_count": null,
   "id": "310e5cab",
   "metadata": {},
   "outputs": [],
   "source": []
  },
  {
   "cell_type": "code",
   "execution_count": null,
   "id": "0714d51b",
   "metadata": {},
   "outputs": [],
   "source": []
  }
 ],
 "metadata": {
  "kernelspec": {
   "display_name": "Python 3 (ipykernel)",
   "language": "python",
   "name": "python3"
  },
  "language_info": {
   "codemirror_mode": {
    "name": "ipython",
    "version": 3
   },
   "file_extension": ".py",
   "mimetype": "text/x-python",
   "name": "python",
   "nbconvert_exporter": "python",
   "pygments_lexer": "ipython3",
   "version": "3.9.16"
  }
 },
 "nbformat": 4,
 "nbformat_minor": 5
}
